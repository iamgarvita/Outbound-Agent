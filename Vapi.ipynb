{
  "nbformat": 4,
  "nbformat_minor": 0,
  "metadata": {
    "colab": {
      "provenance": []
    },
    "kernelspec": {
      "name": "python3",
      "display_name": "Python 3"
    },
    "language_info": {
      "name": "python"
    }
  },
  "cells": [
    {
      "cell_type": "code",
      "execution_count": 1,
      "metadata": {
        "colab": {
          "base_uri": "https://localhost:8080/",
          "height": 108
        },
        "id": "JDv9goOlFmv6",
        "outputId": "0d4f9080-5871-4f16-fc24-f8172da1f44e"
      },
      "outputs": [
        {
          "output_type": "error",
          "ename": "SyntaxError",
          "evalue": "invalid syntax (<ipython-input-1-7fed49db49d4>, line 1)",
          "traceback": [
            "\u001b[0;36m  File \u001b[0;32m\"<ipython-input-1-7fed49db49d4>\"\u001b[0;36m, line \u001b[0;32m1\u001b[0m\n\u001b[0;31m    pip3 install requests\u001b[0m\n\u001b[0m         ^\u001b[0m\n\u001b[0;31mSyntaxError\u001b[0m\u001b[0;31m:\u001b[0m invalid syntax\n"
          ]
        }
      ],
      "source": [
        "pip3 install requests\n"
      ]
    },
    {
      "cell_type": "code",
      "source": [
        "!python -m pip install requests"
      ],
      "metadata": {
        "colab": {
          "base_uri": "https://localhost:8080/"
        },
        "id": "w4VfX8u1Fv9E",
        "outputId": "da1a611b-c67c-462a-f36c-d0f41b955936"
      },
      "execution_count": 3,
      "outputs": [
        {
          "output_type": "stream",
          "name": "stdout",
          "text": [
            "Requirement already satisfied: requests in /usr/local/lib/python3.11/dist-packages (2.32.3)\n",
            "Requirement already satisfied: charset-normalizer<4,>=2 in /usr/local/lib/python3.11/dist-packages (from requests) (3.4.1)\n",
            "Requirement already satisfied: idna<4,>=2.5 in /usr/local/lib/python3.11/dist-packages (from requests) (3.10)\n",
            "Requirement already satisfied: urllib3<3,>=1.21.1 in /usr/local/lib/python3.11/dist-packages (from requests) (2.3.0)\n",
            "Requirement already satisfied: certifi>=2017.4.17 in /usr/local/lib/python3.11/dist-packages (from requests) (2025.1.31)\n"
          ]
        }
      ]
    },
    {
      "cell_type": "code",
      "source": [
        "!python -m pip install flask"
      ],
      "metadata": {
        "colab": {
          "base_uri": "https://localhost:8080/"
        },
        "id": "k9KJlOmAF3A5",
        "outputId": "b92eebc1-cf7a-4d0d-e966-59d285ca194f"
      },
      "execution_count": 4,
      "outputs": [
        {
          "output_type": "stream",
          "name": "stdout",
          "text": [
            "Requirement already satisfied: flask in /usr/local/lib/python3.11/dist-packages (3.1.0)\n",
            "Requirement already satisfied: Werkzeug>=3.1 in /usr/local/lib/python3.11/dist-packages (from flask) (3.1.3)\n",
            "Requirement already satisfied: Jinja2>=3.1.2 in /usr/local/lib/python3.11/dist-packages (from flask) (3.1.5)\n",
            "Requirement already satisfied: itsdangerous>=2.2 in /usr/local/lib/python3.11/dist-packages (from flask) (2.2.0)\n",
            "Requirement already satisfied: click>=8.1.3 in /usr/local/lib/python3.11/dist-packages (from flask) (8.1.8)\n",
            "Requirement already satisfied: blinker>=1.9 in /usr/local/lib/python3.11/dist-packages (from flask) (1.9.0)\n",
            "Requirement already satisfied: MarkupSafe>=2.0 in /usr/local/lib/python3.11/dist-packages (from Jinja2>=3.1.2->flask) (3.0.2)\n"
          ]
        }
      ]
    },
    {
      "cell_type": "code",
      "source": [
        "import requests\n",
        "\n",
        "# Your Vapi API Authorization token\n",
        "auth_token = '62d82870-a1b5-4ea7-b191-79438b8243b9'\n",
        "# The Phone Number ID, and the Customer details for the call\n",
        "phone_number_id = '0fe9ed93-b064-4aa6-b4ce-2ee35adb8333'\n",
        "customer_number = \"+918690625893\"\n",
        "\n",
        "# Create the header with Authorization token\n",
        "headers = {\n",
        "    'Authorization': f'Bearer {auth_token}',\n",
        "    'Content-Type': 'application/json',\n",
        "}\n",
        "\n",
        "# Create the data payload for the API request\n",
        "data = {\n",
        "    'assistant': {\n",
        "        \"firstMessage\": \"Hey, what's up?\",\n",
        "        \"model\": {\n",
        "            \"provider\": \"openai\",\n",
        "            \"model\": \"gpt-3.5-turbo\",\n",
        "            \"messages\": [\n",
        "                {\n",
        "                    \"role\": \"system\",\n",
        "                    \"content\": \"You are an assistant.\"\n",
        "                }\n",
        "            ]\n",
        "        },\n",
        "        \"voice\": \"jennifer-playht\"\n",
        "    },\n",
        "    'phoneNumberId': phone_number_id,\n",
        "    'customer': {\n",
        "        'number': customer_number,\n",
        "    },\n",
        "}\n",
        "\n",
        "# Make the POST request to Vapi to create the phone call\n",
        "response = requests.post(\n",
        "    'https://api.vapi.ai/call/phone', headers=headers, json=data)\n",
        "\n",
        "# Check if the request was successful and print the response\n",
        "if response.status_code == 201:\n",
        "    print('Call created successfully')\n",
        "    print(response.json())\n",
        "else:\n",
        "    print('Failed to create call')\n",
        "    print(response.text)\n"
      ],
      "metadata": {
        "colab": {
          "base_uri": "https://localhost:8080/"
        },
        "id": "0K4uqd6-F8Pz",
        "outputId": "981a2f39-243f-42ac-caa0-99eef6f5dad7"
      },
      "execution_count": 9,
      "outputs": [
        {
          "output_type": "stream",
          "name": "stdout",
          "text": [
            "Call created successfully\n",
            "{'id': 'e3f36b7d-ab84-41a8-8d1a-89f7b1101b22', 'phoneNumberId': '0fe9ed93-b064-4aa6-b4ce-2ee35adb8333', 'type': 'outboundPhoneCall', 'createdAt': '2025-02-25T14:11:42.772Z', 'updatedAt': '2025-02-25T14:11:42.772Z', 'orgId': 'd67dbe37-75ef-479c-8699-b7cd5944f533', 'cost': 0, 'assistant': {'model': {'model': 'gpt-3.5-turbo', 'messages': [{'role': 'system', 'content': 'You are an assistant.'}], 'provider': 'openai'}, 'voice': 'jennifer-playht', 'firstMessage': \"Hey, what's up?\"}, 'customer': {'number': '+918690625893'}, 'status': 'queued', 'phoneCallProvider': 'twilio', 'phoneCallProviderId': 'CAee64182a1699aefa7a8d089a9728ac10', 'phoneCallTransport': 'pstn', 'monitor': {'listenUrl': 'wss://phone-call-websocket.aws-us-west-2-backend-production3.vapi.ai/e3f36b7d-ab84-41a8-8d1a-89f7b1101b22/listen', 'controlUrl': 'https://phone-call-websocket.aws-us-west-2-backend-production3.vapi.ai/e3f36b7d-ab84-41a8-8d1a-89f7b1101b22/control'}, 'transport': {}}\n"
          ]
        }
      ]
    },
    {
      "cell_type": "code",
      "source": [],
      "metadata": {
        "id": "tWb5wzUqGG9_"
      },
      "execution_count": null,
      "outputs": []
    }
  ]
}